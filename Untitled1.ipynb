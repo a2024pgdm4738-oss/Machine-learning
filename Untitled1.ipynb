{
 "cells": [
  {
   "cell_type": "code",
   "execution_count": 13,
   "id": "a49d6867-e54f-4ba6-9fff-7991b01e36c0",
   "metadata": {},
   "outputs": [],
   "source": [
    "import numpy as np\n",
    "import pandas as pd"
   ]
  },
  {
   "cell_type": "code",
   "execution_count": 14,
   "id": "bfa5ddfa-43ac-4ef6-a286-6f1f3a12bc9d",
   "metadata": {},
   "outputs": [],
   "source": [
    "df=pd.read_csv(\"Bengaluru_House_Data.csv\")"
   ]
  },
  {
   "cell_type": "code",
   "execution_count": 15,
   "id": "da7da9bc-8f94-456d-81d7-077c82652a4d",
   "metadata": {},
   "outputs": [
    {
     "data": {
      "text/html": [
       "<div>\n",
       "<style scoped>\n",
       "    .dataframe tbody tr th:only-of-type {\n",
       "        vertical-align: middle;\n",
       "    }\n",
       "\n",
       "    .dataframe tbody tr th {\n",
       "        vertical-align: top;\n",
       "    }\n",
       "\n",
       "    .dataframe thead th {\n",
       "        text-align: right;\n",
       "    }\n",
       "</style>\n",
       "<table border=\"1\" class=\"dataframe\">\n",
       "  <thead>\n",
       "    <tr style=\"text-align: right;\">\n",
       "      <th></th>\n",
       "      <th>area_type</th>\n",
       "      <th>availability</th>\n",
       "      <th>location</th>\n",
       "      <th>size</th>\n",
       "      <th>society</th>\n",
       "      <th>total_sqft</th>\n",
       "      <th>bath</th>\n",
       "      <th>balcony</th>\n",
       "      <th>price</th>\n",
       "    </tr>\n",
       "  </thead>\n",
       "  <tbody>\n",
       "    <tr>\n",
       "      <th>0</th>\n",
       "      <td>Super built-up  Area</td>\n",
       "      <td>19-Dec</td>\n",
       "      <td>Electronic City Phase II</td>\n",
       "      <td>2 BHK</td>\n",
       "      <td>Coomee</td>\n",
       "      <td>1056</td>\n",
       "      <td>2.0</td>\n",
       "      <td>1.0</td>\n",
       "      <td>39.07</td>\n",
       "    </tr>\n",
       "    <tr>\n",
       "      <th>1</th>\n",
       "      <td>Plot  Area</td>\n",
       "      <td>Ready To Move</td>\n",
       "      <td>Chikka Tirupathi</td>\n",
       "      <td>4 Bedroom</td>\n",
       "      <td>Theanmp</td>\n",
       "      <td>2600</td>\n",
       "      <td>5.0</td>\n",
       "      <td>3.0</td>\n",
       "      <td>120.00</td>\n",
       "    </tr>\n",
       "    <tr>\n",
       "      <th>2</th>\n",
       "      <td>Built-up  Area</td>\n",
       "      <td>Ready To Move</td>\n",
       "      <td>Uttarahalli</td>\n",
       "      <td>3 BHK</td>\n",
       "      <td>NaN</td>\n",
       "      <td>1440</td>\n",
       "      <td>2.0</td>\n",
       "      <td>3.0</td>\n",
       "      <td>62.00</td>\n",
       "    </tr>\n",
       "    <tr>\n",
       "      <th>3</th>\n",
       "      <td>Super built-up  Area</td>\n",
       "      <td>Ready To Move</td>\n",
       "      <td>Lingadheeranahalli</td>\n",
       "      <td>3 BHK</td>\n",
       "      <td>Soiewre</td>\n",
       "      <td>1521</td>\n",
       "      <td>3.0</td>\n",
       "      <td>1.0</td>\n",
       "      <td>95.00</td>\n",
       "    </tr>\n",
       "    <tr>\n",
       "      <th>4</th>\n",
       "      <td>Super built-up  Area</td>\n",
       "      <td>Ready To Move</td>\n",
       "      <td>Kothanur</td>\n",
       "      <td>2 BHK</td>\n",
       "      <td>NaN</td>\n",
       "      <td>1200</td>\n",
       "      <td>2.0</td>\n",
       "      <td>1.0</td>\n",
       "      <td>51.00</td>\n",
       "    </tr>\n",
       "  </tbody>\n",
       "</table>\n",
       "</div>"
      ],
      "text/plain": [
       "              area_type   availability                  location       size  \\\n",
       "0  Super built-up  Area         19-Dec  Electronic City Phase II      2 BHK   \n",
       "1            Plot  Area  Ready To Move          Chikka Tirupathi  4 Bedroom   \n",
       "2        Built-up  Area  Ready To Move               Uttarahalli      3 BHK   \n",
       "3  Super built-up  Area  Ready To Move        Lingadheeranahalli      3 BHK   \n",
       "4  Super built-up  Area  Ready To Move                  Kothanur      2 BHK   \n",
       "\n",
       "   society total_sqft  bath  balcony   price  \n",
       "0  Coomee        1056   2.0      1.0   39.07  \n",
       "1  Theanmp       2600   5.0      3.0  120.00  \n",
       "2      NaN       1440   2.0      3.0   62.00  \n",
       "3  Soiewre       1521   3.0      1.0   95.00  \n",
       "4      NaN       1200   2.0      1.0   51.00  "
      ]
     },
     "execution_count": 15,
     "metadata": {},
     "output_type": "execute_result"
    }
   ],
   "source": [
    "df.head()"
   ]
  },
  {
   "cell_type": "code",
   "execution_count": 16,
   "id": "eb4c7d52-72fe-4f15-83c0-3bb954552a78",
   "metadata": {},
   "outputs": [
    {
     "data": {
      "text/plain": [
       "(13320, 9)"
      ]
     },
     "execution_count": 16,
     "metadata": {},
     "output_type": "execute_result"
    }
   ],
   "source": [
    "df.shape"
   ]
  },
  {
   "cell_type": "code",
   "execution_count": 17,
   "id": "b178fd6a-af48-4e0a-a42d-7bdc75acd558",
   "metadata": {},
   "outputs": [
    {
     "data": {
      "text/plain": [
       "<bound method NDFrame.describe of                   area_type   availability                  location  \\\n",
       "0      Super built-up  Area         19-Dec  Electronic City Phase II   \n",
       "1                Plot  Area  Ready To Move          Chikka Tirupathi   \n",
       "2            Built-up  Area  Ready To Move               Uttarahalli   \n",
       "3      Super built-up  Area  Ready To Move        Lingadheeranahalli   \n",
       "4      Super built-up  Area  Ready To Move                  Kothanur   \n",
       "...                     ...            ...                       ...   \n",
       "13315        Built-up  Area  Ready To Move                Whitefield   \n",
       "13316  Super built-up  Area  Ready To Move             Richards Town   \n",
       "13317        Built-up  Area  Ready To Move     Raja Rajeshwari Nagar   \n",
       "13318  Super built-up  Area         18-Jun           Padmanabhanagar   \n",
       "13319  Super built-up  Area  Ready To Move              Doddathoguru   \n",
       "\n",
       "            size  society total_sqft  bath  balcony   price  \n",
       "0          2 BHK  Coomee        1056   2.0      1.0   39.07  \n",
       "1      4 Bedroom  Theanmp       2600   5.0      3.0  120.00  \n",
       "2          3 BHK      NaN       1440   2.0      3.0   62.00  \n",
       "3          3 BHK  Soiewre       1521   3.0      1.0   95.00  \n",
       "4          2 BHK      NaN       1200   2.0      1.0   51.00  \n",
       "...          ...      ...        ...   ...      ...     ...  \n",
       "13315  5 Bedroom  ArsiaEx       3453   4.0      0.0  231.00  \n",
       "13316      4 BHK      NaN       3600   5.0      NaN  400.00  \n",
       "13317      2 BHK  Mahla T       1141   2.0      1.0   60.00  \n",
       "13318      4 BHK  SollyCl       4689   4.0      1.0  488.00  \n",
       "13319      1 BHK      NaN        550   1.0      1.0   17.00  \n",
       "\n",
       "[13320 rows x 9 columns]>"
      ]
     },
     "execution_count": 17,
     "metadata": {},
     "output_type": "execute_result"
    }
   ],
   "source": [
    "df.describe"
   ]
  },
  {
   "cell_type": "code",
   "execution_count": 18,
   "id": "01798d69-4032-49eb-a7e7-bf2b29974c78",
   "metadata": {},
   "outputs": [
    {
     "data": {
      "text/plain": [
       "<bound method DataFrame.info of                   area_type   availability                  location  \\\n",
       "0      Super built-up  Area         19-Dec  Electronic City Phase II   \n",
       "1                Plot  Area  Ready To Move          Chikka Tirupathi   \n",
       "2            Built-up  Area  Ready To Move               Uttarahalli   \n",
       "3      Super built-up  Area  Ready To Move        Lingadheeranahalli   \n",
       "4      Super built-up  Area  Ready To Move                  Kothanur   \n",
       "...                     ...            ...                       ...   \n",
       "13315        Built-up  Area  Ready To Move                Whitefield   \n",
       "13316  Super built-up  Area  Ready To Move             Richards Town   \n",
       "13317        Built-up  Area  Ready To Move     Raja Rajeshwari Nagar   \n",
       "13318  Super built-up  Area         18-Jun           Padmanabhanagar   \n",
       "13319  Super built-up  Area  Ready To Move              Doddathoguru   \n",
       "\n",
       "            size  society total_sqft  bath  balcony   price  \n",
       "0          2 BHK  Coomee        1056   2.0      1.0   39.07  \n",
       "1      4 Bedroom  Theanmp       2600   5.0      3.0  120.00  \n",
       "2          3 BHK      NaN       1440   2.0      3.0   62.00  \n",
       "3          3 BHK  Soiewre       1521   3.0      1.0   95.00  \n",
       "4          2 BHK      NaN       1200   2.0      1.0   51.00  \n",
       "...          ...      ...        ...   ...      ...     ...  \n",
       "13315  5 Bedroom  ArsiaEx       3453   4.0      0.0  231.00  \n",
       "13316      4 BHK      NaN       3600   5.0      NaN  400.00  \n",
       "13317      2 BHK  Mahla T       1141   2.0      1.0   60.00  \n",
       "13318      4 BHK  SollyCl       4689   4.0      1.0  488.00  \n",
       "13319      1 BHK      NaN        550   1.0      1.0   17.00  \n",
       "\n",
       "[13320 rows x 9 columns]>"
      ]
     },
     "execution_count": 18,
     "metadata": {},
     "output_type": "execute_result"
    }
   ],
   "source": [
    "df.info"
   ]
  },
  {
   "cell_type": "code",
   "execution_count": 19,
   "id": "a31139e4-41a7-49de-8a3d-70af55f0201d",
   "metadata": {},
   "outputs": [
    {
     "data": {
      "text/plain": [
       "area_type           Super built-up  Area\n",
       "availability                      19-Dec\n",
       "location        Electronic City Phase II\n",
       "size                               2 BHK\n",
       "society                          Coomee \n",
       "total_sqft                          1056\n",
       "bath                                 2.0\n",
       "balcony                              1.0\n",
       "price                              39.07\n",
       "Name: 0, dtype: object"
      ]
     },
     "execution_count": 19,
     "metadata": {},
     "output_type": "execute_result"
    }
   ],
   "source": [
    "df.loc[0]"
   ]
  },
  {
   "cell_type": "code",
   "execution_count": 20,
   "id": "bc2081b7-ede4-4ea5-a70b-38442a7c864e",
   "metadata": {},
   "outputs": [
    {
     "name": "stdout",
     "output_type": "stream",
     "text": [
      "mean bath (no nulls): 2.6926096474673513\n"
     ]
    }
   ],
   "source": [
    "mean_bath=np.mean(df['bath'])\n",
    "print(\"mean bath (no nulls):\",mean_bath)"
   ]
  },
  {
   "cell_type": "code",
   "execution_count": 21,
   "id": "3dc6da40-7f6e-46c2-a16c-81ac39137c07",
   "metadata": {},
   "outputs": [
    {
     "name": "stdout",
     "output_type": "stream",
     "text": [
      "mean bath (no nulls): 2.6926096474673513\n"
     ]
    }
   ],
   "source": [
    "mean_bath=np.mean(df['bath'].dropna())\n",
    "print(\"mean bath (no nulls):\",mean_bath)"
   ]
  },
  {
   "cell_type": "code",
   "execution_count": 22,
   "id": "539bd91b-5d6e-444f-b1a6-b1a2bed9a8d1",
   "metadata": {},
   "outputs": [
    {
     "name": "stderr",
     "output_type": "stream",
     "text": [
      "C:\\Users\\RITIKA\\AppData\\Local\\Temp\\ipykernel_11556\\1626184309.py:1: FutureWarning: A value is trying to be set on a copy of a DataFrame or Series through chained assignment using an inplace method.\n",
      "The behavior will change in pandas 3.0. This inplace method will never work because the intermediate object on which we are setting values always behaves as a copy.\n",
      "\n",
      "For example, when doing 'df[col].method(value, inplace=True)', try using 'df.method({col: value}, inplace=True)' or df[col] = df[col].method(value) instead, to perform the operation inplace on the original object.\n",
      "\n",
      "\n",
      "  df['bath'].fillna(df['bath'].mean(),inplace=True)\n"
     ]
    }
   ],
   "source": [
    "df['bath'].fillna(df['bath'].mean(),inplace=True)"
   ]
  },
  {
   "cell_type": "code",
   "execution_count": 23,
   "id": "aa01e7e7-569d-49b0-93fb-e604ce3ab0a4",
   "metadata": {},
   "outputs": [
    {
     "name": "stdout",
     "output_type": "stream",
     "text": [
      "Updated mean bath: 2.692609647467351\n"
     ]
    }
   ],
   "source": [
    "print(\"Updated mean bath:\",np.mean(df['bath']))"
   ]
  },
  {
   "cell_type": "code",
   "execution_count": 24,
   "id": "798ca7c3-b70e-49fd-96ff-3dfd36b6b12b",
   "metadata": {},
   "outputs": [
    {
     "name": "stdout",
     "output_type": "stream",
     "text": [
      "Reamining null values in 'bath': 0\n"
     ]
    }
   ],
   "source": [
    "print(\"Reamining null values in 'bath':\",df['bath'].isnull().sum())"
   ]
  },
  {
   "cell_type": "code",
   "execution_count": 25,
   "id": "b466e81a-71a9-4f02-b5bc-4f578dd89a00",
   "metadata": {},
   "outputs": [
    {
     "name": "stdout",
     "output_type": "stream",
     "text": [
      "mean price (no nulls): 112.5656265015015\n"
     ]
    }
   ],
   "source": [
    "mean_price=np.mean(df['price'])\n",
    "print(\"mean price (no nulls):\",mean_price)"
   ]
  },
  {
   "cell_type": "code",
   "execution_count": 26,
   "id": "72f5dc95-f217-4680-b817-f44d52ad9c72",
   "metadata": {},
   "outputs": [
    {
     "name": "stdout",
     "output_type": "stream",
     "text": [
      "mean balcony : 1.5843757375501535\n"
     ]
    }
   ],
   "source": [
    "mean_balcony=np.mean(df['balcony'])\n",
    "print(\"mean balcony :\",mean_balcony)"
   ]
  },
  {
   "cell_type": "code",
   "execution_count": 27,
   "id": "7c8b0640-c6f1-4d7e-8045-55a510c98d61",
   "metadata": {},
   "outputs": [
    {
     "name": "stdout",
     "output_type": "stream",
     "text": [
      "before filling,nulls in 'balcony': 609\n"
     ]
    }
   ],
   "source": [
    "print(\"before filling,nulls in 'balcony':\",df['balcony'].isnull().sum())"
   ]
  },
  {
   "cell_type": "code",
   "execution_count": 28,
   "id": "1af2d1df-d81d-4209-a263-648cf6fbe421",
   "metadata": {},
   "outputs": [],
   "source": [
    "balcony_mean=df['balcony'].mean()"
   ]
  },
  {
   "cell_type": "code",
   "execution_count": 29,
   "id": "5c756dad-f718-4cf6-b5aa-965493274c53",
   "metadata": {},
   "outputs": [
    {
     "name": "stderr",
     "output_type": "stream",
     "text": [
      "C:\\Users\\RITIKA\\AppData\\Local\\Temp\\ipykernel_11556\\621490081.py:1: FutureWarning: A value is trying to be set on a copy of a DataFrame or Series through chained assignment using an inplace method.\n",
      "The behavior will change in pandas 3.0. This inplace method will never work because the intermediate object on which we are setting values always behaves as a copy.\n",
      "\n",
      "For example, when doing 'df[col].method(value, inplace=True)', try using 'df.method({col: value}, inplace=True)' or df[col] = df[col].method(value) instead, to perform the operation inplace on the original object.\n",
      "\n",
      "\n",
      "  df['balcony'].fillna(balcony_mean,inplace=True)\n"
     ]
    }
   ],
   "source": [
    "df['balcony'].fillna(balcony_mean,inplace=True)"
   ]
  },
  {
   "cell_type": "raw",
   "id": "72b14378-bb26-4ccd-ac76-a8967288e8f1",
   "metadata": {},
   "source": [
    "print(\"After filling,nulls in 'balcony':\"df['balcony'],isnull().sum())"
   ]
  },
  {
   "cell_type": "code",
   "execution_count": 30,
   "id": "ab1bb0b6-94e8-4dfa-b6e9-409b571bd1a5",
   "metadata": {},
   "outputs": [
    {
     "name": "stdout",
     "output_type": "stream",
     "text": [
      "0    1.000000\n",
      "1    3.000000\n",
      "2    3.000000\n",
      "3    1.000000\n",
      "4    1.000000\n",
      "5    1.000000\n",
      "6    1.584376\n",
      "7    1.584376\n",
      "8    1.000000\n",
      "9    1.584376\n",
      "Name: balcony, dtype: float64\n"
     ]
    }
   ],
   "source": [
    "print(df['balcony'].head(10))"
   ]
  },
  {
   "cell_type": "code",
   "execution_count": 31,
   "id": "052b1f82-e2cc-4bce-b6d6-3f1e6cf29094",
   "metadata": {},
   "outputs": [
    {
     "name": "stdout",
     "output_type": "stream",
     "text": [
      "0    1\n",
      "1    3\n",
      "2    3\n",
      "3    1\n",
      "4    1\n",
      "5    1\n",
      "6    1\n",
      "7    1\n",
      "8    1\n",
      "9    1\n",
      "Name: balcony, dtype: int32\n"
     ]
    }
   ],
   "source": [
    "print(df['balcony'].head(10).astype(int))"
   ]
  },
  {
   "cell_type": "code",
   "execution_count": 32,
   "id": "0d85b9ed-8872-4358-957d-90d44656f86f",
   "metadata": {},
   "outputs": [],
   "source": [
    "df['balcony']=df['balcony'].astype(int)"
   ]
  },
  {
   "cell_type": "code",
   "execution_count": 33,
   "id": "f9fe614f-5b8e-4fd6-8141-a49d0fcd4293",
   "metadata": {},
   "outputs": [
    {
     "name": "stdout",
     "output_type": "stream",
     "text": [
      "0        1\n",
      "1        3\n",
      "2        3\n",
      "3        1\n",
      "4        1\n",
      "        ..\n",
      "13315    0\n",
      "13316    1\n",
      "13317    1\n",
      "13318    1\n",
      "13319    1\n",
      "Name: balcony, Length: 13320, dtype: int32\n"
     ]
    }
   ],
   "source": [
    "print(df['balcony'])"
   ]
  },
  {
   "cell_type": "code",
   "execution_count": 34,
   "id": "28576ed3-034b-464f-b3f9-1115c9755de3",
   "metadata": {},
   "outputs": [],
   "source": [
    "def convert_sqft_to_float(x):\n",
    "   try:\n",
    "     if'_'in x:\n",
    "          tokens=x.split('_')\n",
    "          return float(tokens[0])+float(tokens[1])/2\n",
    "     return float(x)\n",
    "   except:\n",
    "     return np.nan\n",
    "        "
   ]
  },
  {
   "cell_type": "code",
   "execution_count": 35,
   "id": "4ae6f07f-968a-4b16-b8eb-75e113996e94",
   "metadata": {},
   "outputs": [],
   "source": [
    "df['total_sqft_cleaned']=df['total_sqft'].apply(convert_sqft_to_float)"
   ]
  },
  {
   "cell_type": "code",
   "execution_count": 36,
   "id": "18e096dc-e7fb-4d11-9fa2-225a8d00515b",
   "metadata": {},
   "outputs": [
    {
     "name": "stdout",
     "output_type": "stream",
     "text": [
      "Missing valuesin total_sqft_cleaned: 247\n"
     ]
    }
   ],
   "source": [
    "print(\"Missing valuesin total_sqft_cleaned:\",df['total_sqft_cleaned'].isnull().sum())"
   ]
  },
  {
   "cell_type": "code",
   "execution_count": 37,
   "id": "d13965f8-8a88-4ed2-b2d6-e52bdd44fe70",
   "metadata": {},
   "outputs": [
    {
     "name": "stderr",
     "output_type": "stream",
     "text": [
      "C:\\Users\\RITIKA\\AppData\\Local\\Temp\\ipykernel_11556\\3213181137.py:2: FutureWarning: A value is trying to be set on a copy of a DataFrame or Series through chained assignment using an inplace method.\n",
      "The behavior will change in pandas 3.0. This inplace method will never work because the intermediate object on which we are setting values always behaves as a copy.\n",
      "\n",
      "For example, when doing 'df[col].method(value, inplace=True)', try using 'df.method({col: value}, inplace=True)' or df[col] = df[col].method(value) instead, to perform the operation inplace on the original object.\n",
      "\n",
      "\n",
      "  df['total_sqft_cleaned'].fillna(mean_sqft,inplace=True)\n"
     ]
    }
   ],
   "source": [
    "mean_sqft=df['total_sqft_cleaned'].mean()\n",
    "df['total_sqft_cleaned'].fillna(mean_sqft,inplace=True)"
   ]
  },
  {
   "cell_type": "code",
   "execution_count": 38,
   "id": "6f714051-edde-4e05-8377-06ec93bbad7f",
   "metadata": {},
   "outputs": [
    {
     "data": {
      "text/plain": [
       "1"
      ]
     },
     "execution_count": 38,
     "metadata": {},
     "output_type": "execute_result"
    }
   ],
   "source": [
    "df['location'].isnull().sum()"
   ]
  },
  {
   "cell_type": "code",
   "execution_count": 39,
   "id": "8016920a-89a3-4f9f-afa1-3b4e2ef66fa8",
   "metadata": {
    "scrolled": true
   },
   "outputs": [
    {
     "data": {
      "text/plain": [
       "0    Whitefield\n",
       "Name: location, dtype: object"
      ]
     },
     "execution_count": 39,
     "metadata": {},
     "output_type": "execute_result"
    }
   ],
   "source": [
    "df['location'].mode()"
   ]
  },
  {
   "cell_type": "code",
   "execution_count": 40,
   "id": "6bbd2022-31de-4f54-aa3f-9ab7029664fa",
   "metadata": {},
   "outputs": [
    {
     "name": "stderr",
     "output_type": "stream",
     "text": [
      "C:\\Users\\RITIKA\\AppData\\Local\\Temp\\ipykernel_11556\\2056135260.py:1: FutureWarning: A value is trying to be set on a copy of a DataFrame or Series through chained assignment using an inplace method.\n",
      "The behavior will change in pandas 3.0. This inplace method will never work because the intermediate object on which we are setting values always behaves as a copy.\n",
      "\n",
      "For example, when doing 'df[col].method(value, inplace=True)', try using 'df.method({col: value}, inplace=True)' or df[col] = df[col].method(value) instead, to perform the operation inplace on the original object.\n",
      "\n",
      "\n",
      "  df['location'].fillna('Whitefield',inplace=True)\n"
     ]
    }
   ],
   "source": [
    "df['location'].fillna('Whitefield',inplace=True)"
   ]
  },
  {
   "cell_type": "code",
   "execution_count": 41,
   "id": "d575b7b7-2d3b-47cd-8961-0a2cc574c8c0",
   "metadata": {},
   "outputs": [
    {
     "name": "stderr",
     "output_type": "stream",
     "text": [
      "C:\\Users\\RITIKA\\AppData\\Local\\Temp\\ipykernel_11556\\2295510029.py:1: FutureWarning: A value is trying to be set on a copy of a DataFrame or Series through chained assignment using an inplace method.\n",
      "The behavior will change in pandas 3.0. This inplace method will never work because the intermediate object on which we are setting values always behaves as a copy.\n",
      "\n",
      "For example, when doing 'df[col].method(value, inplace=True)', try using 'df.method({col: value}, inplace=True)' or df[col] = df[col].method(value) instead, to perform the operation inplace on the original object.\n",
      "\n",
      "\n",
      "  df['society'].fillna(df['society'].mode()[0],inplace=True)\n"
     ]
    }
   ],
   "source": [
    "df['society'].fillna(df['society'].mode()[0],inplace=True)"
   ]
  },
  {
   "cell_type": "code",
   "execution_count": 42,
   "id": "4cad34e0-969b-4e14-9b03-10752daae9c0",
   "metadata": {},
   "outputs": [],
   "source": [
    "df['location'].fillna(df['location'].mode()[0],inplace=True)"
   ]
  },
  {
   "cell_type": "code",
   "execution_count": 43,
   "id": "a6bcd1f7-c4a7-4fbf-90bf-eaecf2d13346",
   "metadata": {},
   "outputs": [],
   "source": [
    "df1=df.drop('society',axis=1)"
   ]
  },
  {
   "cell_type": "code",
   "execution_count": 44,
   "id": "b2a81cc8-2edf-4b77-a092-b8492559a4b7",
   "metadata": {},
   "outputs": [
    {
     "data": {
      "text/html": [
       "<div>\n",
       "<style scoped>\n",
       "    .dataframe tbody tr th:only-of-type {\n",
       "        vertical-align: middle;\n",
       "    }\n",
       "\n",
       "    .dataframe tbody tr th {\n",
       "        vertical-align: top;\n",
       "    }\n",
       "\n",
       "    .dataframe thead th {\n",
       "        text-align: right;\n",
       "    }\n",
       "</style>\n",
       "<table border=\"1\" class=\"dataframe\">\n",
       "  <thead>\n",
       "    <tr style=\"text-align: right;\">\n",
       "      <th></th>\n",
       "      <th>area_type</th>\n",
       "      <th>availability</th>\n",
       "      <th>location</th>\n",
       "      <th>size</th>\n",
       "      <th>total_sqft</th>\n",
       "      <th>bath</th>\n",
       "      <th>balcony</th>\n",
       "      <th>price</th>\n",
       "      <th>total_sqft_cleaned</th>\n",
       "    </tr>\n",
       "  </thead>\n",
       "  <tbody>\n",
       "    <tr>\n",
       "      <th>0</th>\n",
       "      <td>Super built-up  Area</td>\n",
       "      <td>19-Dec</td>\n",
       "      <td>Electronic City Phase II</td>\n",
       "      <td>2 BHK</td>\n",
       "      <td>1056</td>\n",
       "      <td>2.0</td>\n",
       "      <td>1</td>\n",
       "      <td>39.07</td>\n",
       "      <td>1056.0</td>\n",
       "    </tr>\n",
       "    <tr>\n",
       "      <th>1</th>\n",
       "      <td>Plot  Area</td>\n",
       "      <td>Ready To Move</td>\n",
       "      <td>Chikka Tirupathi</td>\n",
       "      <td>4 Bedroom</td>\n",
       "      <td>2600</td>\n",
       "      <td>5.0</td>\n",
       "      <td>3</td>\n",
       "      <td>120.00</td>\n",
       "      <td>2600.0</td>\n",
       "    </tr>\n",
       "    <tr>\n",
       "      <th>2</th>\n",
       "      <td>Built-up  Area</td>\n",
       "      <td>Ready To Move</td>\n",
       "      <td>Uttarahalli</td>\n",
       "      <td>3 BHK</td>\n",
       "      <td>1440</td>\n",
       "      <td>2.0</td>\n",
       "      <td>3</td>\n",
       "      <td>62.00</td>\n",
       "      <td>1440.0</td>\n",
       "    </tr>\n",
       "    <tr>\n",
       "      <th>3</th>\n",
       "      <td>Super built-up  Area</td>\n",
       "      <td>Ready To Move</td>\n",
       "      <td>Lingadheeranahalli</td>\n",
       "      <td>3 BHK</td>\n",
       "      <td>1521</td>\n",
       "      <td>3.0</td>\n",
       "      <td>1</td>\n",
       "      <td>95.00</td>\n",
       "      <td>1521.0</td>\n",
       "    </tr>\n",
       "    <tr>\n",
       "      <th>4</th>\n",
       "      <td>Super built-up  Area</td>\n",
       "      <td>Ready To Move</td>\n",
       "      <td>Kothanur</td>\n",
       "      <td>2 BHK</td>\n",
       "      <td>1200</td>\n",
       "      <td>2.0</td>\n",
       "      <td>1</td>\n",
       "      <td>51.00</td>\n",
       "      <td>1200.0</td>\n",
       "    </tr>\n",
       "  </tbody>\n",
       "</table>\n",
       "</div>"
      ],
      "text/plain": [
       "              area_type   availability                  location       size  \\\n",
       "0  Super built-up  Area         19-Dec  Electronic City Phase II      2 BHK   \n",
       "1            Plot  Area  Ready To Move          Chikka Tirupathi  4 Bedroom   \n",
       "2        Built-up  Area  Ready To Move               Uttarahalli      3 BHK   \n",
       "3  Super built-up  Area  Ready To Move        Lingadheeranahalli      3 BHK   \n",
       "4  Super built-up  Area  Ready To Move                  Kothanur      2 BHK   \n",
       "\n",
       "  total_sqft  bath  balcony   price  total_sqft_cleaned  \n",
       "0       1056   2.0        1   39.07              1056.0  \n",
       "1       2600   5.0        3  120.00              2600.0  \n",
       "2       1440   2.0        3   62.00              1440.0  \n",
       "3       1521   3.0        1   95.00              1521.0  \n",
       "4       1200   2.0        1   51.00              1200.0  "
      ]
     },
     "execution_count": 44,
     "metadata": {},
     "output_type": "execute_result"
    }
   ],
   "source": [
    "df1.head()"
   ]
  },
  {
   "cell_type": "code",
   "execution_count": 45,
   "id": "6c8034e3-a13c-402c-af57-bea307a5c662",
   "metadata": {},
   "outputs": [
    {
     "data": {
      "text/plain": [
       "area_type              0\n",
       "availability           0\n",
       "location               0\n",
       "size                  16\n",
       "total_sqft             0\n",
       "bath                   0\n",
       "balcony                0\n",
       "price                  0\n",
       "total_sqft_cleaned     0\n",
       "dtype: int64"
      ]
     },
     "execution_count": 45,
     "metadata": {},
     "output_type": "execute_result"
    }
   ],
   "source": [
    "df1.isnull().sum()"
   ]
  },
  {
   "cell_type": "code",
   "execution_count": 46,
   "id": "afd9fb9b-384b-4d30-af12-ebd7a3b76653",
   "metadata": {},
   "outputs": [
    {
     "name": "stdout",
     "output_type": "stream",
     "text": [
      "size 0        2.0\n",
      "1        4.0\n",
      "2        3.0\n",
      "3        3.0\n",
      "4        2.0\n",
      "        ... \n",
      "13315    5.0\n",
      "13316    4.0\n",
      "13317    2.0\n",
      "13318    4.0\n",
      "13319    1.0\n",
      "Name: size_num, Length: 13320, dtype: float64\n"
     ]
    },
    {
     "name": "stderr",
     "output_type": "stream",
     "text": [
      "<>:1: SyntaxWarning: invalid escape sequence '\\d'\n",
      "<>:1: SyntaxWarning: invalid escape sequence '\\d'\n",
      "C:\\Users\\RITIKA\\AppData\\Local\\Temp\\ipykernel_11556\\26546103.py:1: SyntaxWarning: invalid escape sequence '\\d'\n",
      "  df['size_num']=df['size'].str.extract('(\\d+)').astype(float)\n"
     ]
    }
   ],
   "source": [
    "df['size_num']=df['size'].str.extract('(\\d+)').astype(float)\n",
    "print(\"size\",df['size_num'])"
   ]
  },
  {
   "cell_type": "code",
   "execution_count": 47,
   "id": "7182bf2b-5ead-4b5f-b71b-b7849f099f4b",
   "metadata": {},
   "outputs": [
    {
     "name": "stdout",
     "output_type": "stream",
     "text": [
      "variance: 200.0\n",
      "standard deviation: 14.142135623730951\n"
     ]
    }
   ],
   "source": [
    "#variance and std\n",
    "data=[10,20,30,40,50]\n",
    "var=np.var(data)\n",
    "std=np.std(data)\n",
    "print(\"variance:\",var)\n",
    "print(\"standard deviation:\",std)"
   ]
  },
  {
   "cell_type": "code",
   "execution_count": 48,
   "id": "58370a71-7919-4059-8698-10e8a6f20593",
   "metadata": {},
   "outputs": [
    {
     "name": "stdout",
     "output_type": "stream",
     "text": [
      "[1 0 1 0 0]\n"
     ]
    }
   ],
   "source": [
    "from sklearn.preprocessing import LabelEncoder\n",
    "data=['male','female','male','female','female']\n",
    "le=LabelEncoder()\n",
    "\n",
    "encoded=le.fit_transform(data)\n",
    "print(encoded)"
   ]
  },
  {
   "cell_type": "code",
   "execution_count": 49,
   "id": "55c4731e-a621-4a63-ade6-3b24923ea380",
   "metadata": {},
   "outputs": [
    {
     "name": "stdout",
     "output_type": "stream",
     "text": [
      "              area_type  area_type_encoded\n",
      "0  Super built-up  Area                  3\n",
      "1            Plot  Area                  2\n",
      "2        Built-up  Area                  0\n",
      "3  Super built-up  Area                  3\n",
      "4  Super built-up  Area                  3\n"
     ]
    }
   ],
   "source": [
    "from sklearn.preprocessing import LabelEncoder\n",
    "df['area_type']\n",
    "le=LabelEncoder()\n",
    "df['area_type_encoded']=le.fit_transform(df['area_type'])\n",
    "print(df[['area_type','area_type_encoded']].head())"
   ]
  },
  {
   "cell_type": "code",
   "execution_count": 50,
   "id": "493774eb-bfd8-411f-8eed-20f7ec2671ac",
   "metadata": {},
   "outputs": [
    {
     "data": {
      "text/html": [
       "<div>\n",
       "<style scoped>\n",
       "    .dataframe tbody tr th:only-of-type {\n",
       "        vertical-align: middle;\n",
       "    }\n",
       "\n",
       "    .dataframe tbody tr th {\n",
       "        vertical-align: top;\n",
       "    }\n",
       "\n",
       "    .dataframe thead th {\n",
       "        text-align: right;\n",
       "    }\n",
       "</style>\n",
       "<table border=\"1\" class=\"dataframe\">\n",
       "  <thead>\n",
       "    <tr style=\"text-align: right;\">\n",
       "      <th></th>\n",
       "      <th>area_type</th>\n",
       "      <th>availability</th>\n",
       "      <th>location</th>\n",
       "      <th>size</th>\n",
       "      <th>society</th>\n",
       "      <th>total_sqft</th>\n",
       "      <th>bath</th>\n",
       "      <th>balcony</th>\n",
       "      <th>price</th>\n",
       "      <th>total_sqft_cleaned</th>\n",
       "      <th>size_num</th>\n",
       "      <th>area_type_encoded</th>\n",
       "    </tr>\n",
       "  </thead>\n",
       "  <tbody>\n",
       "    <tr>\n",
       "      <th>0</th>\n",
       "      <td>Super built-up  Area</td>\n",
       "      <td>19-Dec</td>\n",
       "      <td>Electronic City Phase II</td>\n",
       "      <td>2 BHK</td>\n",
       "      <td>Coomee</td>\n",
       "      <td>1056</td>\n",
       "      <td>2.0</td>\n",
       "      <td>1</td>\n",
       "      <td>39.07</td>\n",
       "      <td>1056.0</td>\n",
       "      <td>2.0</td>\n",
       "      <td>3</td>\n",
       "    </tr>\n",
       "    <tr>\n",
       "      <th>1</th>\n",
       "      <td>Plot  Area</td>\n",
       "      <td>Ready To Move</td>\n",
       "      <td>Chikka Tirupathi</td>\n",
       "      <td>4 Bedroom</td>\n",
       "      <td>Theanmp</td>\n",
       "      <td>2600</td>\n",
       "      <td>5.0</td>\n",
       "      <td>3</td>\n",
       "      <td>120.00</td>\n",
       "      <td>2600.0</td>\n",
       "      <td>4.0</td>\n",
       "      <td>2</td>\n",
       "    </tr>\n",
       "    <tr>\n",
       "      <th>2</th>\n",
       "      <td>Built-up  Area</td>\n",
       "      <td>Ready To Move</td>\n",
       "      <td>Uttarahalli</td>\n",
       "      <td>3 BHK</td>\n",
       "      <td>GrrvaGr</td>\n",
       "      <td>1440</td>\n",
       "      <td>2.0</td>\n",
       "      <td>3</td>\n",
       "      <td>62.00</td>\n",
       "      <td>1440.0</td>\n",
       "      <td>3.0</td>\n",
       "      <td>0</td>\n",
       "    </tr>\n",
       "    <tr>\n",
       "      <th>3</th>\n",
       "      <td>Super built-up  Area</td>\n",
       "      <td>Ready To Move</td>\n",
       "      <td>Lingadheeranahalli</td>\n",
       "      <td>3 BHK</td>\n",
       "      <td>Soiewre</td>\n",
       "      <td>1521</td>\n",
       "      <td>3.0</td>\n",
       "      <td>1</td>\n",
       "      <td>95.00</td>\n",
       "      <td>1521.0</td>\n",
       "      <td>3.0</td>\n",
       "      <td>3</td>\n",
       "    </tr>\n",
       "    <tr>\n",
       "      <th>4</th>\n",
       "      <td>Super built-up  Area</td>\n",
       "      <td>Ready To Move</td>\n",
       "      <td>Kothanur</td>\n",
       "      <td>2 BHK</td>\n",
       "      <td>GrrvaGr</td>\n",
       "      <td>1200</td>\n",
       "      <td>2.0</td>\n",
       "      <td>1</td>\n",
       "      <td>51.00</td>\n",
       "      <td>1200.0</td>\n",
       "      <td>2.0</td>\n",
       "      <td>3</td>\n",
       "    </tr>\n",
       "  </tbody>\n",
       "</table>\n",
       "</div>"
      ],
      "text/plain": [
       "              area_type   availability                  location       size  \\\n",
       "0  Super built-up  Area         19-Dec  Electronic City Phase II      2 BHK   \n",
       "1            Plot  Area  Ready To Move          Chikka Tirupathi  4 Bedroom   \n",
       "2        Built-up  Area  Ready To Move               Uttarahalli      3 BHK   \n",
       "3  Super built-up  Area  Ready To Move        Lingadheeranahalli      3 BHK   \n",
       "4  Super built-up  Area  Ready To Move                  Kothanur      2 BHK   \n",
       "\n",
       "   society total_sqft  bath  balcony   price  total_sqft_cleaned  size_num  \\\n",
       "0  Coomee        1056   2.0        1   39.07              1056.0       2.0   \n",
       "1  Theanmp       2600   5.0        3  120.00              2600.0       4.0   \n",
       "2  GrrvaGr       1440   2.0        3   62.00              1440.0       3.0   \n",
       "3  Soiewre       1521   3.0        1   95.00              1521.0       3.0   \n",
       "4  GrrvaGr       1200   2.0        1   51.00              1200.0       2.0   \n",
       "\n",
       "   area_type_encoded  \n",
       "0                  3  \n",
       "1                  2  \n",
       "2                  0  \n",
       "3                  3  \n",
       "4                  3  "
      ]
     },
     "execution_count": 50,
     "metadata": {},
     "output_type": "execute_result"
    }
   ],
   "source": [
    "df.head()"
   ]
  },
  {
   "cell_type": "code",
   "execution_count": 51,
   "id": "0f4f88bd-e766-4c45-b649-5f73c45cf74a",
   "metadata": {},
   "outputs": [
    {
     "name": "stdout",
     "output_type": "stream",
     "text": [
      "                  area_type  area_type_encoded\n",
      "0      Super built-up  Area                  3\n",
      "1                Plot  Area                  2\n",
      "2            Built-up  Area                  0\n",
      "3      Super built-up  Area                  3\n",
      "4      Super built-up  Area                  3\n",
      "...                     ...                ...\n",
      "13315        Built-up  Area                  0\n",
      "13316  Super built-up  Area                  3\n",
      "13317        Built-up  Area                  0\n",
      "13318  Super built-up  Area                  3\n",
      "13319  Super built-up  Area                  3\n",
      "\n",
      "[13320 rows x 2 columns]\n"
     ]
    }
   ],
   "source": [
    "from sklearn.preprocessing import LabelEncoder\n",
    "df['area_type']\n",
    "le=LabelEncoder()\n",
    "df['area_type_encoded']=le.fit_transform(df['area_type'])\n",
    "print(df[['area_type','area_type_encoded']])"
   ]
  },
  {
   "cell_type": "code",
   "execution_count": 52,
   "id": "51ba5efa-dc93-4362-a7e7-e5678d07271c",
   "metadata": {},
   "outputs": [],
   "source": [
    "df1=df"
   ]
  },
  {
   "cell_type": "code",
   "execution_count": 53,
   "id": "94691e1f-3cd9-4280-8338-86d2bbcfda5e",
   "metadata": {},
   "outputs": [
    {
     "data": {
      "text/html": [
       "<div>\n",
       "<style scoped>\n",
       "    .dataframe tbody tr th:only-of-type {\n",
       "        vertical-align: middle;\n",
       "    }\n",
       "\n",
       "    .dataframe tbody tr th {\n",
       "        vertical-align: top;\n",
       "    }\n",
       "\n",
       "    .dataframe thead th {\n",
       "        text-align: right;\n",
       "    }\n",
       "</style>\n",
       "<table border=\"1\" class=\"dataframe\">\n",
       "  <thead>\n",
       "    <tr style=\"text-align: right;\">\n",
       "      <th></th>\n",
       "      <th>area_type</th>\n",
       "      <th>availability</th>\n",
       "      <th>location</th>\n",
       "      <th>size</th>\n",
       "      <th>society</th>\n",
       "      <th>total_sqft</th>\n",
       "      <th>bath</th>\n",
       "      <th>balcony</th>\n",
       "      <th>price</th>\n",
       "      <th>total_sqft_cleaned</th>\n",
       "      <th>size_num</th>\n",
       "      <th>area_type_encoded</th>\n",
       "    </tr>\n",
       "  </thead>\n",
       "  <tbody>\n",
       "    <tr>\n",
       "      <th>0</th>\n",
       "      <td>Super built-up  Area</td>\n",
       "      <td>19-Dec</td>\n",
       "      <td>Electronic City Phase II</td>\n",
       "      <td>2 BHK</td>\n",
       "      <td>Coomee</td>\n",
       "      <td>1056</td>\n",
       "      <td>2.0</td>\n",
       "      <td>1</td>\n",
       "      <td>39.07</td>\n",
       "      <td>1056.0</td>\n",
       "      <td>2.0</td>\n",
       "      <td>3</td>\n",
       "    </tr>\n",
       "    <tr>\n",
       "      <th>1</th>\n",
       "      <td>Plot  Area</td>\n",
       "      <td>Ready To Move</td>\n",
       "      <td>Chikka Tirupathi</td>\n",
       "      <td>4 Bedroom</td>\n",
       "      <td>Theanmp</td>\n",
       "      <td>2600</td>\n",
       "      <td>5.0</td>\n",
       "      <td>3</td>\n",
       "      <td>120.00</td>\n",
       "      <td>2600.0</td>\n",
       "      <td>4.0</td>\n",
       "      <td>2</td>\n",
       "    </tr>\n",
       "    <tr>\n",
       "      <th>2</th>\n",
       "      <td>Built-up  Area</td>\n",
       "      <td>Ready To Move</td>\n",
       "      <td>Uttarahalli</td>\n",
       "      <td>3 BHK</td>\n",
       "      <td>GrrvaGr</td>\n",
       "      <td>1440</td>\n",
       "      <td>2.0</td>\n",
       "      <td>3</td>\n",
       "      <td>62.00</td>\n",
       "      <td>1440.0</td>\n",
       "      <td>3.0</td>\n",
       "      <td>0</td>\n",
       "    </tr>\n",
       "    <tr>\n",
       "      <th>3</th>\n",
       "      <td>Super built-up  Area</td>\n",
       "      <td>Ready To Move</td>\n",
       "      <td>Lingadheeranahalli</td>\n",
       "      <td>3 BHK</td>\n",
       "      <td>Soiewre</td>\n",
       "      <td>1521</td>\n",
       "      <td>3.0</td>\n",
       "      <td>1</td>\n",
       "      <td>95.00</td>\n",
       "      <td>1521.0</td>\n",
       "      <td>3.0</td>\n",
       "      <td>3</td>\n",
       "    </tr>\n",
       "    <tr>\n",
       "      <th>4</th>\n",
       "      <td>Super built-up  Area</td>\n",
       "      <td>Ready To Move</td>\n",
       "      <td>Kothanur</td>\n",
       "      <td>2 BHK</td>\n",
       "      <td>GrrvaGr</td>\n",
       "      <td>1200</td>\n",
       "      <td>2.0</td>\n",
       "      <td>1</td>\n",
       "      <td>51.00</td>\n",
       "      <td>1200.0</td>\n",
       "      <td>2.0</td>\n",
       "      <td>3</td>\n",
       "    </tr>\n",
       "    <tr>\n",
       "      <th>...</th>\n",
       "      <td>...</td>\n",
       "      <td>...</td>\n",
       "      <td>...</td>\n",
       "      <td>...</td>\n",
       "      <td>...</td>\n",
       "      <td>...</td>\n",
       "      <td>...</td>\n",
       "      <td>...</td>\n",
       "      <td>...</td>\n",
       "      <td>...</td>\n",
       "      <td>...</td>\n",
       "      <td>...</td>\n",
       "    </tr>\n",
       "    <tr>\n",
       "      <th>13315</th>\n",
       "      <td>Built-up  Area</td>\n",
       "      <td>Ready To Move</td>\n",
       "      <td>Whitefield</td>\n",
       "      <td>5 Bedroom</td>\n",
       "      <td>ArsiaEx</td>\n",
       "      <td>3453</td>\n",
       "      <td>4.0</td>\n",
       "      <td>0</td>\n",
       "      <td>231.00</td>\n",
       "      <td>3453.0</td>\n",
       "      <td>5.0</td>\n",
       "      <td>0</td>\n",
       "    </tr>\n",
       "    <tr>\n",
       "      <th>13316</th>\n",
       "      <td>Super built-up  Area</td>\n",
       "      <td>Ready To Move</td>\n",
       "      <td>Richards Town</td>\n",
       "      <td>4 BHK</td>\n",
       "      <td>GrrvaGr</td>\n",
       "      <td>3600</td>\n",
       "      <td>5.0</td>\n",
       "      <td>1</td>\n",
       "      <td>400.00</td>\n",
       "      <td>3600.0</td>\n",
       "      <td>4.0</td>\n",
       "      <td>3</td>\n",
       "    </tr>\n",
       "    <tr>\n",
       "      <th>13317</th>\n",
       "      <td>Built-up  Area</td>\n",
       "      <td>Ready To Move</td>\n",
       "      <td>Raja Rajeshwari Nagar</td>\n",
       "      <td>2 BHK</td>\n",
       "      <td>Mahla T</td>\n",
       "      <td>1141</td>\n",
       "      <td>2.0</td>\n",
       "      <td>1</td>\n",
       "      <td>60.00</td>\n",
       "      <td>1141.0</td>\n",
       "      <td>2.0</td>\n",
       "      <td>0</td>\n",
       "    </tr>\n",
       "    <tr>\n",
       "      <th>13318</th>\n",
       "      <td>Super built-up  Area</td>\n",
       "      <td>18-Jun</td>\n",
       "      <td>Padmanabhanagar</td>\n",
       "      <td>4 BHK</td>\n",
       "      <td>SollyCl</td>\n",
       "      <td>4689</td>\n",
       "      <td>4.0</td>\n",
       "      <td>1</td>\n",
       "      <td>488.00</td>\n",
       "      <td>4689.0</td>\n",
       "      <td>4.0</td>\n",
       "      <td>3</td>\n",
       "    </tr>\n",
       "    <tr>\n",
       "      <th>13319</th>\n",
       "      <td>Super built-up  Area</td>\n",
       "      <td>Ready To Move</td>\n",
       "      <td>Doddathoguru</td>\n",
       "      <td>1 BHK</td>\n",
       "      <td>GrrvaGr</td>\n",
       "      <td>550</td>\n",
       "      <td>1.0</td>\n",
       "      <td>1</td>\n",
       "      <td>17.00</td>\n",
       "      <td>550.0</td>\n",
       "      <td>1.0</td>\n",
       "      <td>3</td>\n",
       "    </tr>\n",
       "  </tbody>\n",
       "</table>\n",
       "<p>13320 rows × 12 columns</p>\n",
       "</div>"
      ],
      "text/plain": [
       "                  area_type   availability                  location  \\\n",
       "0      Super built-up  Area         19-Dec  Electronic City Phase II   \n",
       "1                Plot  Area  Ready To Move          Chikka Tirupathi   \n",
       "2            Built-up  Area  Ready To Move               Uttarahalli   \n",
       "3      Super built-up  Area  Ready To Move        Lingadheeranahalli   \n",
       "4      Super built-up  Area  Ready To Move                  Kothanur   \n",
       "...                     ...            ...                       ...   \n",
       "13315        Built-up  Area  Ready To Move                Whitefield   \n",
       "13316  Super built-up  Area  Ready To Move             Richards Town   \n",
       "13317        Built-up  Area  Ready To Move     Raja Rajeshwari Nagar   \n",
       "13318  Super built-up  Area         18-Jun           Padmanabhanagar   \n",
       "13319  Super built-up  Area  Ready To Move              Doddathoguru   \n",
       "\n",
       "            size  society total_sqft  bath  balcony   price  \\\n",
       "0          2 BHK  Coomee        1056   2.0        1   39.07   \n",
       "1      4 Bedroom  Theanmp       2600   5.0        3  120.00   \n",
       "2          3 BHK  GrrvaGr       1440   2.0        3   62.00   \n",
       "3          3 BHK  Soiewre       1521   3.0        1   95.00   \n",
       "4          2 BHK  GrrvaGr       1200   2.0        1   51.00   \n",
       "...          ...      ...        ...   ...      ...     ...   \n",
       "13315  5 Bedroom  ArsiaEx       3453   4.0        0  231.00   \n",
       "13316      4 BHK  GrrvaGr       3600   5.0        1  400.00   \n",
       "13317      2 BHK  Mahla T       1141   2.0        1   60.00   \n",
       "13318      4 BHK  SollyCl       4689   4.0        1  488.00   \n",
       "13319      1 BHK  GrrvaGr        550   1.0        1   17.00   \n",
       "\n",
       "       total_sqft_cleaned  size_num  area_type_encoded  \n",
       "0                  1056.0       2.0                  3  \n",
       "1                  2600.0       4.0                  2  \n",
       "2                  1440.0       3.0                  0  \n",
       "3                  1521.0       3.0                  3  \n",
       "4                  1200.0       2.0                  3  \n",
       "...                   ...       ...                ...  \n",
       "13315              3453.0       5.0                  0  \n",
       "13316              3600.0       4.0                  3  \n",
       "13317              1141.0       2.0                  0  \n",
       "13318              4689.0       4.0                  3  \n",
       "13319               550.0       1.0                  3  \n",
       "\n",
       "[13320 rows x 12 columns]"
      ]
     },
     "execution_count": 53,
     "metadata": {},
     "output_type": "execute_result"
    }
   ],
   "source": [
    "df1"
   ]
  },
  {
   "cell_type": "code",
   "execution_count": 54,
   "id": "3b7fe919-7f03-4f7f-a3ef-07003d4bec84",
   "metadata": {},
   "outputs": [],
   "source": [
    "df_encoded=pd.get_dummies(df,columns=['area_type','availability','location'],drop_first=True)"
   ]
  },
  {
   "cell_type": "code",
   "execution_count": 55,
   "id": "a384c0bf-0a02-4457-882c-f0de42914be9",
   "metadata": {},
   "outputs": [
    {
     "name": "stdout",
     "output_type": "stream",
     "text": [
      "        size  society total_sqft  bath  balcony   price  total_sqft_cleaned  \\\n",
      "0      2 BHK  Coomee        1056   2.0        1   39.07              1056.0   \n",
      "1  4 Bedroom  Theanmp       2600   5.0        3  120.00              2600.0   \n",
      "2      3 BHK  GrrvaGr       1440   2.0        3   62.00              1440.0   \n",
      "3      3 BHK  Soiewre       1521   3.0        1   95.00              1521.0   \n",
      "4      2 BHK  GrrvaGr       1200   2.0        1   51.00              1200.0   \n",
      "\n",
      "   size_num  area_type_encoded  area_type_Carpet  Area  ...  \\\n",
      "0       2.0                  3                   False  ...   \n",
      "1       4.0                  2                   False  ...   \n",
      "2       3.0                  0                   False  ...   \n",
      "3       3.0                  3                   False  ...   \n",
      "4       2.0                  3                   False  ...   \n",
      "\n",
      "   location_rr nagar  location_sankeswari  location_sapthagiri Layout  \\\n",
      "0              False                False                       False   \n",
      "1              False                False                       False   \n",
      "2              False                False                       False   \n",
      "3              False                False                       False   \n",
      "4              False                False                       False   \n",
      "\n",
      "   location_sarjapura main road  location_singapura paradise  \\\n",
      "0                         False                        False   \n",
      "1                         False                        False   \n",
      "2                         False                        False   \n",
      "3                         False                        False   \n",
      "4                         False                        False   \n",
      "\n",
      "   location_t.c palya  location_tc.palya  location_vinayakanagar  \\\n",
      "0               False              False                   False   \n",
      "1               False              False                   False   \n",
      "2               False              False                   False   \n",
      "3               False              False                   False   \n",
      "4               False              False                   False   \n",
      "\n",
      "   location_white field,kadugodi  location_whitefiled  \n",
      "0                          False                False  \n",
      "1                          False                False  \n",
      "2                          False                False  \n",
      "3                          False                False  \n",
      "4                          False                False  \n",
      "\n",
      "[5 rows x 1396 columns]\n"
     ]
    }
   ],
   "source": [
    "print(df_encoded.head())"
   ]
  },
  {
   "cell_type": "code",
   "execution_count": 56,
   "id": "260945d2-87f8-4dee-ac51-b1f1e6830eab",
   "metadata": {},
   "outputs": [],
   "source": [
    "import numpy as np\n",
    "from scipy import stats"
   ]
  },
  {
   "cell_type": "code",
   "execution_count": 57,
   "id": "1dcc8e4a-5765-476f-9b94-3191060fe4f3",
   "metadata": {},
   "outputs": [],
   "source": [
    "#Sample data:heights of students(in cm)\n",
    "sample_heights=[158,162,161,159,160,157,163,160]\n",
    "# hypothesis:mean\n",
    "t_stat,p_value=stats.ttest_1samp(sample_heights,popmean=160)"
   ]
  },
  {
   "cell_type": "code",
   "execution_count": 58,
   "id": "d37a539e-f5ed-4cdd-a830-bb6769eaed32",
   "metadata": {},
   "outputs": [
    {
     "name": "stdout",
     "output_type": "stream",
     "text": [
      "t-statistic: 0.0\n",
      "p-value: 1.0\n"
     ]
    }
   ],
   "source": [
    "print(\"t-statistic:\",round(t_stat,3))\n",
    "print(\"p-value:\",round(p_value,3))"
   ]
  },
  {
   "cell_type": "code",
   "execution_count": 59,
   "id": "89a94b0a-592c-4ed7-b91b-6536a77c37c0",
   "metadata": {},
   "outputs": [],
   "source": [
    "from sklearn.preprocessing import MinMaxScaler"
   ]
  },
  {
   "cell_type": "code",
   "execution_count": 60,
   "id": "4c774daa-1dad-477b-b3cf-a57b565c9894",
   "metadata": {},
   "outputs": [
    {
     "name": "stdout",
     "output_type": "stream",
     "text": [
      "[[0.  ]\n",
      " [0.25]\n",
      " [0.5 ]\n",
      " [0.75]\n",
      " [1.  ]]\n"
     ]
    }
   ],
   "source": [
    "data=[[10],[20],[30],[40],[50]]\n",
    "scaler=MinMaxScaler()\n",
    "scaled=scaler.fit_transform(data)\n",
    "print(scaled)"
   ]
  },
  {
   "cell_type": "code",
   "execution_count": 61,
   "id": "e985f591-e7fe-4fec-b016-2579fd98fff6",
   "metadata": {},
   "outputs": [],
   "source": [
    "from sklearn.preprocessing import StandardScaler \n"
   ]
  },
  {
   "cell_type": "code",
   "execution_count": 62,
   "id": "97947c73-842c-4fdf-a827-f93f6bc68f36",
   "metadata": {},
   "outputs": [
    {
     "name": "stdout",
     "output_type": "stream",
     "text": [
      "[[-1.41421356]\n",
      " [-0.70710678]\n",
      " [ 0.        ]\n",
      " [ 0.70710678]\n",
      " [ 1.41421356]]\n"
     ]
    }
   ],
   "source": [
    "scaler=StandardScaler()\n",
    "scaled=scaler.fit_transform(data)\n",
    "print(scaled)"
   ]
  },
  {
   "cell_type": "code",
   "execution_count": 63,
   "id": "56b8e538-1be4-4ff7-a25c-a298dd268b4d",
   "metadata": {},
   "outputs": [],
   "source": [
    "from sklearn.preprocessing import MinMaxScaler\n",
    "import pandas as pd"
   ]
  },
  {
   "cell_type": "code",
   "execution_count": 64,
   "id": "24f3744d-260d-4f32-8f33-ffba4119677e",
   "metadata": {},
   "outputs": [],
   "source": [
    "df=pd.read_csv(\"Bengaluru_House_Data.csv\")"
   ]
  },
  {
   "cell_type": "raw",
   "id": "65da4a60-03fb-4996-a937-426a9728cd9a",
   "metadata": {},
   "source": [
    "scaler=MinMaxScaler()"
   ]
  },
  {
   "cell_type": "code",
   "execution_count": 65,
   "id": "a13a1978-d4d5-4fc8-90e9-da7ca7171bcb",
   "metadata": {},
   "outputs": [],
   "source": [
    "df1[['total_sqft_cleaned_norm','bath_norm','price_norm']]=scaler.fit_transform(df1[['total_sqft_cleaned','bath','price']])\n"
   ]
  },
  {
   "cell_type": "code",
   "execution_count": 66,
   "id": "120ab128-777b-4c4e-a160-945b89ced4f9",
   "metadata": {},
   "outputs": [
    {
     "name": "stdout",
     "output_type": "stream",
     "text": [
      "   total_sqft_cleaned_norm  bath_norm  price_norm\n",
      "0                -0.406677  -0.517751   -0.493372\n",
      "1                 0.851804   1.724859    0.049906\n",
      "2                -0.093687  -0.517751   -0.339444\n",
      "3                -0.027665   0.229786   -0.117917\n",
      "4                -0.289306  -0.517751   -0.413286\n"
     ]
    }
   ],
   "source": [
    "print(df1[['total_sqft_cleaned_norm','bath_norm','price_norm']].head())"
   ]
  },
  {
   "cell_type": "code",
   "execution_count": 67,
   "id": "f4531b90-f1f8-48d7-a870-efc6f20bc861",
   "metadata": {},
   "outputs": [
    {
     "data": {
      "text/html": [
       "<div>\n",
       "<style scoped>\n",
       "    .dataframe tbody tr th:only-of-type {\n",
       "        vertical-align: middle;\n",
       "    }\n",
       "\n",
       "    .dataframe tbody tr th {\n",
       "        vertical-align: top;\n",
       "    }\n",
       "\n",
       "    .dataframe thead th {\n",
       "        text-align: right;\n",
       "    }\n",
       "</style>\n",
       "<table border=\"1\" class=\"dataframe\">\n",
       "  <thead>\n",
       "    <tr style=\"text-align: right;\">\n",
       "      <th></th>\n",
       "      <th>area_type</th>\n",
       "      <th>availability</th>\n",
       "      <th>location</th>\n",
       "      <th>size</th>\n",
       "      <th>society</th>\n",
       "      <th>total_sqft</th>\n",
       "      <th>bath</th>\n",
       "      <th>balcony</th>\n",
       "      <th>price</th>\n",
       "      <th>total_sqft_cleaned</th>\n",
       "      <th>size_num</th>\n",
       "      <th>area_type_encoded</th>\n",
       "      <th>total_sqft_cleaned_norm</th>\n",
       "      <th>bath_norm</th>\n",
       "      <th>price_norm</th>\n",
       "    </tr>\n",
       "  </thead>\n",
       "  <tbody>\n",
       "    <tr>\n",
       "      <th>0</th>\n",
       "      <td>Super built-up  Area</td>\n",
       "      <td>19-Dec</td>\n",
       "      <td>Electronic City Phase II</td>\n",
       "      <td>2 BHK</td>\n",
       "      <td>Coomee</td>\n",
       "      <td>1056</td>\n",
       "      <td>2.0</td>\n",
       "      <td>1</td>\n",
       "      <td>39.07</td>\n",
       "      <td>1056.0</td>\n",
       "      <td>2.0</td>\n",
       "      <td>3</td>\n",
       "      <td>-0.406677</td>\n",
       "      <td>-0.517751</td>\n",
       "      <td>-0.493372</td>\n",
       "    </tr>\n",
       "    <tr>\n",
       "      <th>1</th>\n",
       "      <td>Plot  Area</td>\n",
       "      <td>Ready To Move</td>\n",
       "      <td>Chikka Tirupathi</td>\n",
       "      <td>4 Bedroom</td>\n",
       "      <td>Theanmp</td>\n",
       "      <td>2600</td>\n",
       "      <td>5.0</td>\n",
       "      <td>3</td>\n",
       "      <td>120.00</td>\n",
       "      <td>2600.0</td>\n",
       "      <td>4.0</td>\n",
       "      <td>2</td>\n",
       "      <td>0.851804</td>\n",
       "      <td>1.724859</td>\n",
       "      <td>0.049906</td>\n",
       "    </tr>\n",
       "    <tr>\n",
       "      <th>2</th>\n",
       "      <td>Built-up  Area</td>\n",
       "      <td>Ready To Move</td>\n",
       "      <td>Uttarahalli</td>\n",
       "      <td>3 BHK</td>\n",
       "      <td>GrrvaGr</td>\n",
       "      <td>1440</td>\n",
       "      <td>2.0</td>\n",
       "      <td>3</td>\n",
       "      <td>62.00</td>\n",
       "      <td>1440.0</td>\n",
       "      <td>3.0</td>\n",
       "      <td>0</td>\n",
       "      <td>-0.093687</td>\n",
       "      <td>-0.517751</td>\n",
       "      <td>-0.339444</td>\n",
       "    </tr>\n",
       "    <tr>\n",
       "      <th>3</th>\n",
       "      <td>Super built-up  Area</td>\n",
       "      <td>Ready To Move</td>\n",
       "      <td>Lingadheeranahalli</td>\n",
       "      <td>3 BHK</td>\n",
       "      <td>Soiewre</td>\n",
       "      <td>1521</td>\n",
       "      <td>3.0</td>\n",
       "      <td>1</td>\n",
       "      <td>95.00</td>\n",
       "      <td>1521.0</td>\n",
       "      <td>3.0</td>\n",
       "      <td>3</td>\n",
       "      <td>-0.027665</td>\n",
       "      <td>0.229786</td>\n",
       "      <td>-0.117917</td>\n",
       "    </tr>\n",
       "    <tr>\n",
       "      <th>4</th>\n",
       "      <td>Super built-up  Area</td>\n",
       "      <td>Ready To Move</td>\n",
       "      <td>Kothanur</td>\n",
       "      <td>2 BHK</td>\n",
       "      <td>GrrvaGr</td>\n",
       "      <td>1200</td>\n",
       "      <td>2.0</td>\n",
       "      <td>1</td>\n",
       "      <td>51.00</td>\n",
       "      <td>1200.0</td>\n",
       "      <td>2.0</td>\n",
       "      <td>3</td>\n",
       "      <td>-0.289306</td>\n",
       "      <td>-0.517751</td>\n",
       "      <td>-0.413286</td>\n",
       "    </tr>\n",
       "    <tr>\n",
       "      <th>...</th>\n",
       "      <td>...</td>\n",
       "      <td>...</td>\n",
       "      <td>...</td>\n",
       "      <td>...</td>\n",
       "      <td>...</td>\n",
       "      <td>...</td>\n",
       "      <td>...</td>\n",
       "      <td>...</td>\n",
       "      <td>...</td>\n",
       "      <td>...</td>\n",
       "      <td>...</td>\n",
       "      <td>...</td>\n",
       "      <td>...</td>\n",
       "      <td>...</td>\n",
       "      <td>...</td>\n",
       "    </tr>\n",
       "    <tr>\n",
       "      <th>13315</th>\n",
       "      <td>Built-up  Area</td>\n",
       "      <td>Ready To Move</td>\n",
       "      <td>Whitefield</td>\n",
       "      <td>5 Bedroom</td>\n",
       "      <td>ArsiaEx</td>\n",
       "      <td>3453</td>\n",
       "      <td>4.0</td>\n",
       "      <td>0</td>\n",
       "      <td>231.00</td>\n",
       "      <td>3453.0</td>\n",
       "      <td>5.0</td>\n",
       "      <td>0</td>\n",
       "      <td>1.547067</td>\n",
       "      <td>0.977323</td>\n",
       "      <td>0.795043</td>\n",
       "    </tr>\n",
       "    <tr>\n",
       "      <th>13316</th>\n",
       "      <td>Super built-up  Area</td>\n",
       "      <td>Ready To Move</td>\n",
       "      <td>Richards Town</td>\n",
       "      <td>4 BHK</td>\n",
       "      <td>GrrvaGr</td>\n",
       "      <td>3600</td>\n",
       "      <td>5.0</td>\n",
       "      <td>1</td>\n",
       "      <td>400.00</td>\n",
       "      <td>3600.0</td>\n",
       "      <td>4.0</td>\n",
       "      <td>3</td>\n",
       "      <td>1.666883</td>\n",
       "      <td>1.724859</td>\n",
       "      <td>1.929529</td>\n",
       "    </tr>\n",
       "    <tr>\n",
       "      <th>13317</th>\n",
       "      <td>Built-up  Area</td>\n",
       "      <td>Ready To Move</td>\n",
       "      <td>Raja Rajeshwari Nagar</td>\n",
       "      <td>2 BHK</td>\n",
       "      <td>Mahla T</td>\n",
       "      <td>1141</td>\n",
       "      <td>2.0</td>\n",
       "      <td>1</td>\n",
       "      <td>60.00</td>\n",
       "      <td>1141.0</td>\n",
       "      <td>2.0</td>\n",
       "      <td>0</td>\n",
       "      <td>-0.337395</td>\n",
       "      <td>-0.517751</td>\n",
       "      <td>-0.352870</td>\n",
       "    </tr>\n",
       "    <tr>\n",
       "      <th>13318</th>\n",
       "      <td>Super built-up  Area</td>\n",
       "      <td>18-Jun</td>\n",
       "      <td>Padmanabhanagar</td>\n",
       "      <td>4 BHK</td>\n",
       "      <td>SollyCl</td>\n",
       "      <td>4689</td>\n",
       "      <td>4.0</td>\n",
       "      <td>1</td>\n",
       "      <td>488.00</td>\n",
       "      <td>4689.0</td>\n",
       "      <td>4.0</td>\n",
       "      <td>3</td>\n",
       "      <td>2.554504</td>\n",
       "      <td>0.977323</td>\n",
       "      <td>2.520267</td>\n",
       "    </tr>\n",
       "    <tr>\n",
       "      <th>13319</th>\n",
       "      <td>Super built-up  Area</td>\n",
       "      <td>Ready To Move</td>\n",
       "      <td>Doddathoguru</td>\n",
       "      <td>1 BHK</td>\n",
       "      <td>GrrvaGr</td>\n",
       "      <td>550</td>\n",
       "      <td>1.0</td>\n",
       "      <td>1</td>\n",
       "      <td>17.00</td>\n",
       "      <td>550.0</td>\n",
       "      <td>1.0</td>\n",
       "      <td>3</td>\n",
       "      <td>-0.819107</td>\n",
       "      <td>-1.265288</td>\n",
       "      <td>-0.641526</td>\n",
       "    </tr>\n",
       "  </tbody>\n",
       "</table>\n",
       "<p>13320 rows × 15 columns</p>\n",
       "</div>"
      ],
      "text/plain": [
       "                  area_type   availability                  location  \\\n",
       "0      Super built-up  Area         19-Dec  Electronic City Phase II   \n",
       "1                Plot  Area  Ready To Move          Chikka Tirupathi   \n",
       "2            Built-up  Area  Ready To Move               Uttarahalli   \n",
       "3      Super built-up  Area  Ready To Move        Lingadheeranahalli   \n",
       "4      Super built-up  Area  Ready To Move                  Kothanur   \n",
       "...                     ...            ...                       ...   \n",
       "13315        Built-up  Area  Ready To Move                Whitefield   \n",
       "13316  Super built-up  Area  Ready To Move             Richards Town   \n",
       "13317        Built-up  Area  Ready To Move     Raja Rajeshwari Nagar   \n",
       "13318  Super built-up  Area         18-Jun           Padmanabhanagar   \n",
       "13319  Super built-up  Area  Ready To Move              Doddathoguru   \n",
       "\n",
       "            size  society total_sqft  bath  balcony   price  \\\n",
       "0          2 BHK  Coomee        1056   2.0        1   39.07   \n",
       "1      4 Bedroom  Theanmp       2600   5.0        3  120.00   \n",
       "2          3 BHK  GrrvaGr       1440   2.0        3   62.00   \n",
       "3          3 BHK  Soiewre       1521   3.0        1   95.00   \n",
       "4          2 BHK  GrrvaGr       1200   2.0        1   51.00   \n",
       "...          ...      ...        ...   ...      ...     ...   \n",
       "13315  5 Bedroom  ArsiaEx       3453   4.0        0  231.00   \n",
       "13316      4 BHK  GrrvaGr       3600   5.0        1  400.00   \n",
       "13317      2 BHK  Mahla T       1141   2.0        1   60.00   \n",
       "13318      4 BHK  SollyCl       4689   4.0        1  488.00   \n",
       "13319      1 BHK  GrrvaGr        550   1.0        1   17.00   \n",
       "\n",
       "       total_sqft_cleaned  size_num  area_type_encoded  \\\n",
       "0                  1056.0       2.0                  3   \n",
       "1                  2600.0       4.0                  2   \n",
       "2                  1440.0       3.0                  0   \n",
       "3                  1521.0       3.0                  3   \n",
       "4                  1200.0       2.0                  3   \n",
       "...                   ...       ...                ...   \n",
       "13315              3453.0       5.0                  0   \n",
       "13316              3600.0       4.0                  3   \n",
       "13317              1141.0       2.0                  0   \n",
       "13318              4689.0       4.0                  3   \n",
       "13319               550.0       1.0                  3   \n",
       "\n",
       "       total_sqft_cleaned_norm  bath_norm  price_norm  \n",
       "0                    -0.406677  -0.517751   -0.493372  \n",
       "1                     0.851804   1.724859    0.049906  \n",
       "2                    -0.093687  -0.517751   -0.339444  \n",
       "3                    -0.027665   0.229786   -0.117917  \n",
       "4                    -0.289306  -0.517751   -0.413286  \n",
       "...                        ...        ...         ...  \n",
       "13315                 1.547067   0.977323    0.795043  \n",
       "13316                 1.666883   1.724859    1.929529  \n",
       "13317                -0.337395  -0.517751   -0.352870  \n",
       "13318                 2.554504   0.977323    2.520267  \n",
       "13319                -0.819107  -1.265288   -0.641526  \n",
       "\n",
       "[13320 rows x 15 columns]"
      ]
     },
     "execution_count": 67,
     "metadata": {},
     "output_type": "execute_result"
    }
   ],
   "source": [
    "df1"
   ]
  },
  {
   "cell_type": "code",
   "execution_count": 68,
   "id": "3ed44473-d245-47ad-9ace-22ce6c758b94",
   "metadata": {},
   "outputs": [],
   "source": [
    "scaler=StandardScaler()\n",
    "df1[['total_sqft_cleaned_std','bath_std','price_std']]=scaler.fit_transform(df1[['total_sqft_cleaned','bath','price']])\n"
   ]
  },
  {
   "cell_type": "code",
   "execution_count": 69,
   "id": "f2966e30-590f-4cdd-a16c-100307139432",
   "metadata": {},
   "outputs": [
    {
     "name": "stdout",
     "output_type": "stream",
     "text": [
      "   total_sqft_cleaned_std  bath_std  price_std\n",
      "0               -0.406677 -0.517751  -0.493372\n",
      "1                0.851804  1.724859   0.049906\n",
      "2               -0.093687 -0.517751  -0.339444\n",
      "3               -0.027665  0.229786  -0.117917\n",
      "4               -0.289306 -0.517751  -0.413286\n"
     ]
    }
   ],
   "source": [
    "print(df1[['total_sqft_cleaned_std','bath_std','price_std']].head())"
   ]
  },
  {
   "cell_type": "code",
   "execution_count": 70,
   "id": "d12475d8-47c3-493e-bf68-1b7c8bca71ef",
   "metadata": {},
   "outputs": [],
   "source": [
    "from sklearn.model_selection import train_test_split"
   ]
  },
  {
   "cell_type": "code",
   "execution_count": 71,
   "id": "1b29b6e0-94c3-4725-8b24-e9abc5341d0c",
   "metadata": {},
   "outputs": [],
   "source": [
    "x=[[1],[2],[3],[4],[5],[6]]\n",
    "y=[10,20,30,40,50,60]"
   ]
  },
  {
   "cell_type": "code",
   "execution_count": 72,
   "id": "659fe868-13d0-405f-8b53-ec392509bcb1",
   "metadata": {},
   "outputs": [],
   "source": [
    "x_train,x_test,y_train,y_test=train_test_split(x,y,test_size=0.2)"
   ]
  },
  {
   "cell_type": "code",
   "execution_count": 73,
   "id": "87640590-409b-465b-8ff0-3bb48c759cac",
   "metadata": {},
   "outputs": [
    {
     "name": "stdout",
     "output_type": "stream",
     "text": [
      "train: [[4], [2], [5], [6]]\n",
      "test: [[1], [3]]\n"
     ]
    }
   ],
   "source": [
    "print(\"train:\",x_train)\n",
    "print(\"test:\",x_test)"
   ]
  },
  {
   "cell_type": "code",
   "execution_count": 74,
   "id": "b2ba51da-5566-4176-87ce-c2141fbc23ea",
   "metadata": {},
   "outputs": [],
   "source": [
    "x=df.drop('price',axis=1)\n",
    "y=df['price']"
   ]
  },
  {
   "cell_type": "code",
   "execution_count": 75,
   "id": "2103886d-ad0a-405c-936d-aa7eb8276c03",
   "metadata": {},
   "outputs": [],
   "source": [
    "x_train,x_test,y_train,y_test=train_test_split(x,y,test_size=0.2,random_state=42)"
   ]
  },
  {
   "cell_type": "code",
   "execution_count": 76,
   "id": "6917a806-675e-4ec1-bec2-2694a23f42fa",
   "metadata": {},
   "outputs": [
    {
     "name": "stdout",
     "output_type": "stream",
     "text": [
      "training feature: (10656, 8)\n"
     ]
    }
   ],
   "source": [
    "print(\"training feature:\",x_train.shape)"
   ]
  },
  {
   "cell_type": "code",
   "execution_count": 77,
   "id": "4e5b5946-2b09-4d00-a145-a80c181cd73f",
   "metadata": {},
   "outputs": [
    {
     "name": "stdout",
     "output_type": "stream",
     "text": [
      "testing feature: (2664, 8)\n"
     ]
    }
   ],
   "source": [
    "print(\"testing feature:\",x_test.shape)"
   ]
  },
  {
   "cell_type": "code",
   "execution_count": 78,
   "id": "f2fb4f96-ea9f-4268-95f2-bcbb72e143f3",
   "metadata": {},
   "outputs": [
    {
     "name": "stdout",
     "output_type": "stream",
     "text": [
      "training labels: (10656,)\n"
     ]
    }
   ],
   "source": [
    "print(\"training labels:\",y_train.shape)"
   ]
  },
  {
   "cell_type": "code",
   "execution_count": 79,
   "id": "20b9faea-f195-499d-99dd-b25fdb1ae8fa",
   "metadata": {},
   "outputs": [
    {
     "name": "stdout",
     "output_type": "stream",
     "text": [
      "testing labels: (2664,)\n"
     ]
    }
   ],
   "source": [
    "print(\"testing labels:\",y_test.shape)"
   ]
  },
  {
   "cell_type": "code",
   "execution_count": 80,
   "id": "1b6b805f-f158-4764-b543-92350cd03b11",
   "metadata": {},
   "outputs": [],
   "source": [
    "import matplotlib.pyplot as plt"
   ]
  },
  {
   "cell_type": "code",
   "execution_count": 81,
   "id": "a6a1af87-7742-4cb3-96be-4c359dab03b3",
   "metadata": {},
   "outputs": [],
   "source": [
    "x=[1,2,3,4,5]\n",
    "y=[10,20,25,30,40]"
   ]
  },
  {
   "cell_type": "code",
   "execution_count": 82,
   "id": "a818fda5-657c-4356-8517-3709ec9adafc",
   "metadata": {},
   "outputs": [
    {
     "data": {
      "image/png": "[encoded data removed]",
      "text/plain": [
       "<Figure size 640x480 with 1 Axes>"
      ]
     },
     "metadata": {},
     "output_type": "display_data"
    }
   ],
   "source": [
    "plt.bar(x,y)\n",
    "plt.title(\"line ChartExample\")\n",
    "plt.xlabel(\"sales\")\n",
    "plt.show()"
   ]
  },
  {
   "cell_type": "code",
   "execution_count": 85,
   "id": "0dfda980-732e-4199-9710-1f62bbb6e139",
   "metadata": {},
   "outputs": [
    {
     "data": {
      "image/png": "[encoded data removed]",
      "text/plain": [
       "<Figure size 640x480 with 1 Axes>"
      ]
     },
     "metadata": {},
     "output_type": "display_data"
    }
   ],
   "source": [
    "plt.scatter(x,y,color='green')\n",
    "plt.title(\"scatter plot\")\n",
    "plt.xlabel(\"x axis\")\n",
    "plt.xlabel(\"y axis\")\n",
    "plt.show()"
   ]
  },
  {
   "cell_type": "code",
   "execution_count": 84,
   "id": "20f68818-8ac8-4608-bba3-89cbccf635a3",
   "metadata": {},
   "outputs": [
    {
     "data": {
      "image/png": "[encoded data removed]",
      "text/plain": [
       "<Figure size 640x480 with 1 Axes>"
      ]
     },
     "metadata": {},
     "output_type": "display_data"
    }
   ],
   "source": [
    "x=df1['total_sqft_cleaned']\n",
    "y=df1['price']\n",
    "plt.scatter(x,y)\n",
    "plt.title('total_sqft_cleaned')\n",
    "plt.xlabel(\"price\")\n",
    "plt.xlabel('price vs total square feet')\n",
    "\n",
    "plt.show()"
   ]
  },
  {
   "cell_type": "code",
   "execution_count": null,
   "id": "7c644b66-7ec6-4c83-a27e-84745a4bf43f",
   "metadata": {},
   "outputs": [],
   "source": []
  }
 ],
 "metadata": {
  "kernelspec": {
   "display_name": "Python 3 (ipykernel)",
   "language": "python",
   "name": "python3"
  },
  "language_info": {
   "codemirror_mode": {
    "name": "ipython",
    "version": 3
   },
   "file_extension": ".py",
   "mimetype": "text/x-python",
   "name": "python",
   "nbconvert_exporter": "python",
   "pygments_lexer": "ipython3",
   "version": "3.12.7"
  }
 },
 "nbformat": 4,
 "nbformat_minor": 5
}
